{
 "cells": [
  {
   "cell_type": "markdown",
   "metadata": {},
   "source": [
    "# Project of DATA201\n",
    "\n",
    "Zhi Gong, 281761"
   ]
  },
  {
   "cell_type": "code",
   "execution_count": 1,
   "metadata": {},
   "outputs": [
    {
     "name": "stderr",
     "output_type": "stream",
     "text": [
      "── Attaching packages ─────────────────────────────────────── tidyverse 1.2.1 ──\n",
      "✔ ggplot2 3.0.0     ✔ purrr   0.2.5\n",
      "✔ tibble  1.4.2     ✔ dplyr   0.7.6\n",
      "✔ tidyr   0.8.1     ✔ stringr 1.3.1\n",
      "✔ readr   1.1.1     ✔ forcats 0.3.0\n",
      "── Conflicts ────────────────────────────────────────── tidyverse_conflicts() ──\n",
      "✖ dplyr::filter() masks stats::filter()\n",
      "✖ dplyr::lag()    masks stats::lag()\n",
      "\n",
      "Attaching package: ‘magrittr’\n",
      "\n",
      "The following object is masked from ‘package:purrr’:\n",
      "\n",
      "    set_names\n",
      "\n",
      "The following object is masked from ‘package:tidyr’:\n",
      "\n",
      "    extract\n",
      "\n",
      "\n",
      "Attaching package: ‘glue’\n",
      "\n",
      "The following object is masked from ‘package:dplyr’:\n",
      "\n",
      "    collapse\n",
      "\n",
      "Loading required package: xml2\n",
      "\n",
      "Attaching package: ‘rvest’\n",
      "\n",
      "The following object is masked from ‘package:purrr’:\n",
      "\n",
      "    pluck\n",
      "\n",
      "The following object is masked from ‘package:readr’:\n",
      "\n",
      "    guess_encoding\n",
      "\n",
      "Linking to ImageMagick 6.9.9.39\n",
      "Enabled features: cairo, fontconfig, freetype, lcms, pango, rsvg, webp\n",
      "Disabled features: fftw, ghostscript, x11\n"
     ]
    }
   ],
   "source": [
    "library(tidyverse)\n",
    "library(magrittr) # better handling of pipes\n",
    "library(purrr) # to work with lists and map functions\n",
    "library(glue) # to paste strings\n",
    "library(stringr) # to hand strings\n",
    "library(rvest) # rvest makes scraping easier\n",
    "library(polite) # polite is the \"polite\" version of rvest\n",
    "library(httr)\n",
    "library(png) #load png\n",
    "library(grid)\n",
    "library(wesanderson)\n",
    "library(skimr)\n",
    "library(visdat)\n",
    "library(ggrepel) #stops overlapping text on ggplot\n",
    "library(rvest) # rvest makes scraping easier\n",
    "library(magick)\n",
    "library(ggimage)\n",
    "library(plotrix) # for 3D pie chart"
   ]
  },
  {
   "cell_type": "markdown",
   "metadata": {},
   "source": [
    "# Scrape from http://worldhappiness.report/ed/"
   ]
  },
  {
   "cell_type": "code",
   "execution_count": 2,
   "metadata": {},
   "outputs": [],
   "source": [
    "#Read World Happiness data sets every_year from website \"http://worldhappiness.report/ed/year/\"\n",
    "#Since the url of each year is not regular,so I need to get the link of dataset one by one.\n",
    "base_url = \"http://worldhappiness.report/ed/\""
   ]
  },
  {
   "cell_type": "code",
   "execution_count": 3,
   "metadata": {},
   "outputs": [],
   "source": [
    "#2015 World Happiness data sets link\n",
    "happiness15_url = glue(\"{base_url}2015/\")"
   ]
  },
  {
   "cell_type": "code",
   "execution_count": 4,
   "metadata": {},
   "outputs": [
    {
     "data": {
      "text/html": [
       "<ol class=list-inline>\n",
       "\t<li>'https://s3.amazonaws.com/happiness-report/2015/WHR15_Sep15.pdf'</li>\n",
       "\t<li>'https://s3.amazonaws.com/happiness-report/2015/Ch5_Davison_WHR_Annex1_final.pdf'</li>\n",
       "\t<li>'https://s3.amazonaws.com/happiness-report/2015/WHR-2015-summary_final.pdf'</li>\n",
       "\t<li>'https://s3.amazonaws.com/happiness-report/2015/Ch2FAQ_final.pdf'</li>\n",
       "\t<li>'https://s3.amazonaws.com/happiness-report/2015/Chapter2OnlineData_Expanded-with-Trust-and-Governance.xlsx'</li>\n",
       "\t<li>'https://s3.amazonaws.com/happiness-report/2015/Chapter3_DataforFigures_4.xlsx'</li>\n",
       "\t<li>'https://s3.amazonaws.com/happiness-report/2015/StatisticalAppendixWHR3-April-16-2015.pdf'</li>\n",
       "\t<li>'https://s3.amazonaws.com/happiness-report/2015/Updated-slide-use-and-implementation.pptx'</li>\n",
       "\t<li>'https://s3.amazonaws.com/happiness-report/2015/WHR-2015-summary_final-ES.pdf'</li>\n",
       "\t<li>'https://s3.amazonaws.com/happiness-report/2015/WHR2015_Spanish_Ch-1.pdf'</li>\n",
       "\t<li>'https://s3.amazonaws.com/happiness-report/2015/WHR-2015-summary_final-FR.pdf'</li>\n",
       "\t<li>'https://s3.amazonaws.com/happiness-report/2015/WHR-2015-summary_final-IT.pdf'</li>\n",
       "\t<li>'https://s3.amazonaws.com/happiness-report/2015/WHR-2015-summary_final-DE.pdf'</li>\n",
       "\t<li>'https://s3.amazonaws.com/happiness-report/2015/WHR-2015-summary_final-PT.pdf'</li>\n",
       "</ol>\n"
      ],
      "text/latex": [
       "\\begin{enumerate*}\n",
       "\\item 'https://s3.amazonaws.com/happiness-report/2015/WHR15\\_Sep15.pdf'\n",
       "\\item 'https://s3.amazonaws.com/happiness-report/2015/Ch5\\_Davison\\_WHR\\_Annex1\\_final.pdf'\n",
       "\\item 'https://s3.amazonaws.com/happiness-report/2015/WHR-2015-summary\\_final.pdf'\n",
       "\\item 'https://s3.amazonaws.com/happiness-report/2015/Ch2FAQ\\_final.pdf'\n",
       "\\item 'https://s3.amazonaws.com/happiness-report/2015/Chapter2OnlineData\\_Expanded-with-Trust-and-Governance.xlsx'\n",
       "\\item 'https://s3.amazonaws.com/happiness-report/2015/Chapter3\\_DataforFigures\\_4.xlsx'\n",
       "\\item 'https://s3.amazonaws.com/happiness-report/2015/StatisticalAppendixWHR3-April-16-2015.pdf'\n",
       "\\item 'https://s3.amazonaws.com/happiness-report/2015/Updated-slide-use-and-implementation.pptx'\n",
       "\\item 'https://s3.amazonaws.com/happiness-report/2015/WHR-2015-summary\\_final-ES.pdf'\n",
       "\\item 'https://s3.amazonaws.com/happiness-report/2015/WHR2015\\_Spanish\\_Ch-1.pdf'\n",
       "\\item 'https://s3.amazonaws.com/happiness-report/2015/WHR-2015-summary\\_final-FR.pdf'\n",
       "\\item 'https://s3.amazonaws.com/happiness-report/2015/WHR-2015-summary\\_final-IT.pdf'\n",
       "\\item 'https://s3.amazonaws.com/happiness-report/2015/WHR-2015-summary\\_final-DE.pdf'\n",
       "\\item 'https://s3.amazonaws.com/happiness-report/2015/WHR-2015-summary\\_final-PT.pdf'\n",
       "\\end{enumerate*}\n"
      ],
      "text/markdown": [
       "1. 'https://s3.amazonaws.com/happiness-report/2015/WHR15_Sep15.pdf'\n",
       "2. 'https://s3.amazonaws.com/happiness-report/2015/Ch5_Davison_WHR_Annex1_final.pdf'\n",
       "3. 'https://s3.amazonaws.com/happiness-report/2015/WHR-2015-summary_final.pdf'\n",
       "4. 'https://s3.amazonaws.com/happiness-report/2015/Ch2FAQ_final.pdf'\n",
       "5. 'https://s3.amazonaws.com/happiness-report/2015/Chapter2OnlineData_Expanded-with-Trust-and-Governance.xlsx'\n",
       "6. 'https://s3.amazonaws.com/happiness-report/2015/Chapter3_DataforFigures_4.xlsx'\n",
       "7. 'https://s3.amazonaws.com/happiness-report/2015/StatisticalAppendixWHR3-April-16-2015.pdf'\n",
       "8. 'https://s3.amazonaws.com/happiness-report/2015/Updated-slide-use-and-implementation.pptx'\n",
       "9. 'https://s3.amazonaws.com/happiness-report/2015/WHR-2015-summary_final-ES.pdf'\n",
       "10. 'https://s3.amazonaws.com/happiness-report/2015/WHR2015_Spanish_Ch-1.pdf'\n",
       "11. 'https://s3.amazonaws.com/happiness-report/2015/WHR-2015-summary_final-FR.pdf'\n",
       "12. 'https://s3.amazonaws.com/happiness-report/2015/WHR-2015-summary_final-IT.pdf'\n",
       "13. 'https://s3.amazonaws.com/happiness-report/2015/WHR-2015-summary_final-DE.pdf'\n",
       "14. 'https://s3.amazonaws.com/happiness-report/2015/WHR-2015-summary_final-PT.pdf'\n",
       "\n",
       "\n"
      ],
      "text/plain": [
       " [1] \"https://s3.amazonaws.com/happiness-report/2015/WHR15_Sep15.pdf\"                                           \n",
       " [2] \"https://s3.amazonaws.com/happiness-report/2015/Ch5_Davison_WHR_Annex1_final.pdf\"                          \n",
       " [3] \"https://s3.amazonaws.com/happiness-report/2015/WHR-2015-summary_final.pdf\"                                \n",
       " [4] \"https://s3.amazonaws.com/happiness-report/2015/Ch2FAQ_final.pdf\"                                          \n",
       " [5] \"https://s3.amazonaws.com/happiness-report/2015/Chapter2OnlineData_Expanded-with-Trust-and-Governance.xlsx\"\n",
       " [6] \"https://s3.amazonaws.com/happiness-report/2015/Chapter3_DataforFigures_4.xlsx\"                            \n",
       " [7] \"https://s3.amazonaws.com/happiness-report/2015/StatisticalAppendixWHR3-April-16-2015.pdf\"                 \n",
       " [8] \"https://s3.amazonaws.com/happiness-report/2015/Updated-slide-use-and-implementation.pptx\"                 \n",
       " [9] \"https://s3.amazonaws.com/happiness-report/2015/WHR-2015-summary_final-ES.pdf\"                             \n",
       "[10] \"https://s3.amazonaws.com/happiness-report/2015/WHR2015_Spanish_Ch-1.pdf\"                                  \n",
       "[11] \"https://s3.amazonaws.com/happiness-report/2015/WHR-2015-summary_final-FR.pdf\"                             \n",
       "[12] \"https://s3.amazonaws.com/happiness-report/2015/WHR-2015-summary_final-IT.pdf\"                             \n",
       "[13] \"https://s3.amazonaws.com/happiness-report/2015/WHR-2015-summary_final-DE.pdf\"                             \n",
       "[14] \"https://s3.amazonaws.com/happiness-report/2015/WHR-2015-summary_final-PT.pdf\"                             "
      ]
     },
     "metadata": {},
     "output_type": "display_data"
    }
   ],
   "source": [
    "#2015 World Happiness data sets link\n",
    "happiness15_url_file_link = read_html(happiness15_url) %>% html_nodes(\".file--link\")  %>% html_attr(\"href\")\n",
    "happiness15_url_file_link"
   ]
  },
  {
   "cell_type": "code",
   "execution_count": 5,
   "metadata": {},
   "outputs": [
    {
     "data": {
      "text/html": [
       "'https://s3.amazonaws.com/happiness-report/2015/Chapter2OnlineData_Expanded-with-Trust-and-Governance.xlsx'"
      ],
      "text/latex": [
       "'https://s3.amazonaws.com/happiness-report/2015/Chapter2OnlineData\\_Expanded-with-Trust-and-Governance.xlsx'"
      ],
      "text/markdown": [
       "'https://s3.amazonaws.com/happiness-report/2015/Chapter2OnlineData_Expanded-with-Trust-and-Governance.xlsx'"
      ],
      "text/plain": [
       "[1] \"https://s3.amazonaws.com/happiness-report/2015/Chapter2OnlineData_Expanded-with-Trust-and-Governance.xlsx\""
      ]
     },
     "metadata": {},
     "output_type": "display_data"
    }
   ],
   "source": [
    "#2015 dataset link\n",
    "happiness15_data_link = happiness15_url_file_link[5]\n",
    "happiness15_data_link"
   ]
  },
  {
   "cell_type": "code",
   "execution_count": 6,
   "metadata": {},
   "outputs": [],
   "source": [
    "#2016 World Happiness data sets link\n",
    "happiness16_url = glue(\"{base_url}2016/\")"
   ]
  },
  {
   "cell_type": "code",
   "execution_count": 7,
   "metadata": {},
   "outputs": [
    {
     "data": {
      "text/html": [
       "<ol class=list-inline>\n",
       "\t<li>'https://s3.amazonaws.com/happiness-report/2016/HR-V1_web.pdf'</li>\n",
       "\t<li>'https://s3.amazonaws.com/happiness-report/2016/HR-V1Ch1_web.pdf'</li>\n",
       "\t<li>'https://s3.amazonaws.com/happiness-report/2016/HR-V1Ch2_web.pdf'</li>\n",
       "\t<li>'https://s3.amazonaws.com/happiness-report/2016/HR-V1Ch3_web.pdf'</li>\n",
       "\t<li>'https://s3.amazonaws.com/happiness-report/2016/HR-V1Ch4_web.pdf'</li>\n",
       "\t<li>'https://s3.amazonaws.com/happiness-report/2016/FAQ_2016.pdf'</li>\n",
       "\t<li>'https://s3.amazonaws.com/happiness-report/2016/Online-data-for-chapter-2-whr-2016.xlsx'</li>\n",
       "\t<li>'https://s3.amazonaws.com/happiness-report/2016/StatisticalAppendixWHR2016.pdf'</li>\n",
       "\t<li>'https://s3.amazonaws.com/happiness-report/2016/NSO-data-collections.pptx'</li>\n",
       "\t<li>'https://s3.amazonaws.com/happiness-report/2016/HR-V2_web.pdf'</li>\n",
       "\t<li>'https://s3.amazonaws.com/happiness-report/2016/HR-V2Ch1_web.pdf'</li>\n",
       "\t<li>'https://s3.amazonaws.com/happiness-report/2016/HR-V2Ch2_web.pdf'</li>\n",
       "\t<li>'https://s3.amazonaws.com/happiness-report/2016/HR-V2Ch3_web.pdf'</li>\n",
       "\t<li>'https://s3.amazonaws.com/happiness-report/2016/HR-V2Ch4_web.pdf'</li>\n",
       "\t<li>'https://s3.amazonaws.com/happiness-report/2016/HR-V2Ch5_web.pdf'</li>\n",
       "</ol>\n"
      ],
      "text/latex": [
       "\\begin{enumerate*}\n",
       "\\item 'https://s3.amazonaws.com/happiness-report/2016/HR-V1\\_web.pdf'\n",
       "\\item 'https://s3.amazonaws.com/happiness-report/2016/HR-V1Ch1\\_web.pdf'\n",
       "\\item 'https://s3.amazonaws.com/happiness-report/2016/HR-V1Ch2\\_web.pdf'\n",
       "\\item 'https://s3.amazonaws.com/happiness-report/2016/HR-V1Ch3\\_web.pdf'\n",
       "\\item 'https://s3.amazonaws.com/happiness-report/2016/HR-V1Ch4\\_web.pdf'\n",
       "\\item 'https://s3.amazonaws.com/happiness-report/2016/FAQ\\_2016.pdf'\n",
       "\\item 'https://s3.amazonaws.com/happiness-report/2016/Online-data-for-chapter-2-whr-2016.xlsx'\n",
       "\\item 'https://s3.amazonaws.com/happiness-report/2016/StatisticalAppendixWHR2016.pdf'\n",
       "\\item 'https://s3.amazonaws.com/happiness-report/2016/NSO-data-collections.pptx'\n",
       "\\item 'https://s3.amazonaws.com/happiness-report/2016/HR-V2\\_web.pdf'\n",
       "\\item 'https://s3.amazonaws.com/happiness-report/2016/HR-V2Ch1\\_web.pdf'\n",
       "\\item 'https://s3.amazonaws.com/happiness-report/2016/HR-V2Ch2\\_web.pdf'\n",
       "\\item 'https://s3.amazonaws.com/happiness-report/2016/HR-V2Ch3\\_web.pdf'\n",
       "\\item 'https://s3.amazonaws.com/happiness-report/2016/HR-V2Ch4\\_web.pdf'\n",
       "\\item 'https://s3.amazonaws.com/happiness-report/2016/HR-V2Ch5\\_web.pdf'\n",
       "\\end{enumerate*}\n"
      ],
      "text/markdown": [
       "1. 'https://s3.amazonaws.com/happiness-report/2016/HR-V1_web.pdf'\n",
       "2. 'https://s3.amazonaws.com/happiness-report/2016/HR-V1Ch1_web.pdf'\n",
       "3. 'https://s3.amazonaws.com/happiness-report/2016/HR-V1Ch2_web.pdf'\n",
       "4. 'https://s3.amazonaws.com/happiness-report/2016/HR-V1Ch3_web.pdf'\n",
       "5. 'https://s3.amazonaws.com/happiness-report/2016/HR-V1Ch4_web.pdf'\n",
       "6. 'https://s3.amazonaws.com/happiness-report/2016/FAQ_2016.pdf'\n",
       "7. 'https://s3.amazonaws.com/happiness-report/2016/Online-data-for-chapter-2-whr-2016.xlsx'\n",
       "8. 'https://s3.amazonaws.com/happiness-report/2016/StatisticalAppendixWHR2016.pdf'\n",
       "9. 'https://s3.amazonaws.com/happiness-report/2016/NSO-data-collections.pptx'\n",
       "10. 'https://s3.amazonaws.com/happiness-report/2016/HR-V2_web.pdf'\n",
       "11. 'https://s3.amazonaws.com/happiness-report/2016/HR-V2Ch1_web.pdf'\n",
       "12. 'https://s3.amazonaws.com/happiness-report/2016/HR-V2Ch2_web.pdf'\n",
       "13. 'https://s3.amazonaws.com/happiness-report/2016/HR-V2Ch3_web.pdf'\n",
       "14. 'https://s3.amazonaws.com/happiness-report/2016/HR-V2Ch4_web.pdf'\n",
       "15. 'https://s3.amazonaws.com/happiness-report/2016/HR-V2Ch5_web.pdf'\n",
       "\n",
       "\n"
      ],
      "text/plain": [
       " [1] \"https://s3.amazonaws.com/happiness-report/2016/HR-V1_web.pdf\"                          \n",
       " [2] \"https://s3.amazonaws.com/happiness-report/2016/HR-V1Ch1_web.pdf\"                       \n",
       " [3] \"https://s3.amazonaws.com/happiness-report/2016/HR-V1Ch2_web.pdf\"                       \n",
       " [4] \"https://s3.amazonaws.com/happiness-report/2016/HR-V1Ch3_web.pdf\"                       \n",
       " [5] \"https://s3.amazonaws.com/happiness-report/2016/HR-V1Ch4_web.pdf\"                       \n",
       " [6] \"https://s3.amazonaws.com/happiness-report/2016/FAQ_2016.pdf\"                           \n",
       " [7] \"https://s3.amazonaws.com/happiness-report/2016/Online-data-for-chapter-2-whr-2016.xlsx\"\n",
       " [8] \"https://s3.amazonaws.com/happiness-report/2016/StatisticalAppendixWHR2016.pdf\"         \n",
       " [9] \"https://s3.amazonaws.com/happiness-report/2016/NSO-data-collections.pptx\"              \n",
       "[10] \"https://s3.amazonaws.com/happiness-report/2016/HR-V2_web.pdf\"                          \n",
       "[11] \"https://s3.amazonaws.com/happiness-report/2016/HR-V2Ch1_web.pdf\"                       \n",
       "[12] \"https://s3.amazonaws.com/happiness-report/2016/HR-V2Ch2_web.pdf\"                       \n",
       "[13] \"https://s3.amazonaws.com/happiness-report/2016/HR-V2Ch3_web.pdf\"                       \n",
       "[14] \"https://s3.amazonaws.com/happiness-report/2016/HR-V2Ch4_web.pdf\"                       \n",
       "[15] \"https://s3.amazonaws.com/happiness-report/2016/HR-V2Ch5_web.pdf\"                       "
      ]
     },
     "metadata": {},
     "output_type": "display_data"
    }
   ],
   "source": [
    "#2016 World Happiness data sets link\n",
    "happiness16_url_file_link = read_html(happiness16_url) %>% html_nodes(\".file--link\")  %>% html_attr(\"href\")\n",
    "happiness16_url_file_link"
   ]
  },
  {
   "cell_type": "code",
   "execution_count": 8,
   "metadata": {},
   "outputs": [
    {
     "data": {
      "text/html": [
       "'https://s3.amazonaws.com/happiness-report/2016/Online-data-for-chapter-2-whr-2016.xlsx'"
      ],
      "text/latex": [
       "'https://s3.amazonaws.com/happiness-report/2016/Online-data-for-chapter-2-whr-2016.xlsx'"
      ],
      "text/markdown": [
       "'https://s3.amazonaws.com/happiness-report/2016/Online-data-for-chapter-2-whr-2016.xlsx'"
      ],
      "text/plain": [
       "[1] \"https://s3.amazonaws.com/happiness-report/2016/Online-data-for-chapter-2-whr-2016.xlsx\""
      ]
     },
     "metadata": {},
     "output_type": "display_data"
    }
   ],
   "source": [
    "#2016 happiness data link\n",
    "happiness16_data_link = happiness16_url_file_link[7]\n",
    "happiness16_data_link"
   ]
  },
  {
   "cell_type": "code",
   "execution_count": 9,
   "metadata": {},
   "outputs": [
    {
     "data": {
      "text/html": [
       "<ol class=list-inline>\n",
       "\t<li>'https://s3.amazonaws.com/happiness-report/2017/HR17.pdf'</li>\n",
       "\t<li>'https://s3.amazonaws.com/happiness-report/2017/HR17-ESv2_updated.pdf'</li>\n",
       "\t<li>'https://s3.amazonaws.com/happiness-report/2017/HR17-Ch1.pdf'</li>\n",
       "\t<li>'https://s3.amazonaws.com/happiness-report/2017/HR17-Ch2.pdf'</li>\n",
       "\t<li>'https://s3.amazonaws.com/happiness-report/2017/online-data-chapter-2-whr-2017.xlsx'</li>\n",
       "\t<li>'https://s3.amazonaws.com/happiness-report/2017/StatisticalAppendixWHR2017.pdf'</li>\n",
       "\t<li>'https://s3.amazonaws.com/happiness-report/2017/NSO-stocktake-summary.pptx'</li>\n",
       "\t<li>'https://s3.amazonaws.com/happiness-report/2017/final-data-for-figures-in-chapter-2-whr-2017.xlsx'</li>\n",
       "\t<li>'https://s3.amazonaws.com/happiness-report/2017/HR17-Ch3.pdf'</li>\n",
       "\t<li>'https://s3.amazonaws.com/happiness-report/2017/HR17-Ch3_Appendix.pdf'</li>\n",
       "\t<li>'https://s3.amazonaws.com/happiness-report/2017/HR17-Ch4_w-oAppendix.pdf'</li>\n",
       "\t<li>'https://s3.amazonaws.com/happiness-report/2017/HR17-Ch4_Appendix.pdf'</li>\n",
       "\t<li>'https://s3.amazonaws.com/happiness-report/2017/HR17-Ch5_w-oAppendix.pdf'</li>\n",
       "\t<li>'https://s3.amazonaws.com/happiness-report/2017/HR17-Ch5_Appendix.pdf'</li>\n",
       "\t<li>'https://s3.amazonaws.com/happiness-report/2017/HR17-Ch6_wAppendix.pdf'</li>\n",
       "\t<li>'https://s3.amazonaws.com/happiness-report/2017/HR17-Ch6_Appendix_updated_May2017.pdf'</li>\n",
       "\t<li>'https://s3.amazonaws.com/happiness-report/2017/HR17-Ch7.pdf'</li>\n",
       "</ol>\n"
      ],
      "text/latex": [
       "\\begin{enumerate*}\n",
       "\\item 'https://s3.amazonaws.com/happiness-report/2017/HR17.pdf'\n",
       "\\item 'https://s3.amazonaws.com/happiness-report/2017/HR17-ESv2\\_updated.pdf'\n",
       "\\item 'https://s3.amazonaws.com/happiness-report/2017/HR17-Ch1.pdf'\n",
       "\\item 'https://s3.amazonaws.com/happiness-report/2017/HR17-Ch2.pdf'\n",
       "\\item 'https://s3.amazonaws.com/happiness-report/2017/online-data-chapter-2-whr-2017.xlsx'\n",
       "\\item 'https://s3.amazonaws.com/happiness-report/2017/StatisticalAppendixWHR2017.pdf'\n",
       "\\item 'https://s3.amazonaws.com/happiness-report/2017/NSO-stocktake-summary.pptx'\n",
       "\\item 'https://s3.amazonaws.com/happiness-report/2017/final-data-for-figures-in-chapter-2-whr-2017.xlsx'\n",
       "\\item 'https://s3.amazonaws.com/happiness-report/2017/HR17-Ch3.pdf'\n",
       "\\item 'https://s3.amazonaws.com/happiness-report/2017/HR17-Ch3\\_Appendix.pdf'\n",
       "\\item 'https://s3.amazonaws.com/happiness-report/2017/HR17-Ch4\\_w-oAppendix.pdf'\n",
       "\\item 'https://s3.amazonaws.com/happiness-report/2017/HR17-Ch4\\_Appendix.pdf'\n",
       "\\item 'https://s3.amazonaws.com/happiness-report/2017/HR17-Ch5\\_w-oAppendix.pdf'\n",
       "\\item 'https://s3.amazonaws.com/happiness-report/2017/HR17-Ch5\\_Appendix.pdf'\n",
       "\\item 'https://s3.amazonaws.com/happiness-report/2017/HR17-Ch6\\_wAppendix.pdf'\n",
       "\\item 'https://s3.amazonaws.com/happiness-report/2017/HR17-Ch6\\_Appendix\\_updated\\_May2017.pdf'\n",
       "\\item 'https://s3.amazonaws.com/happiness-report/2017/HR17-Ch7.pdf'\n",
       "\\end{enumerate*}\n"
      ],
      "text/markdown": [
       "1. 'https://s3.amazonaws.com/happiness-report/2017/HR17.pdf'\n",
       "2. 'https://s3.amazonaws.com/happiness-report/2017/HR17-ESv2_updated.pdf'\n",
       "3. 'https://s3.amazonaws.com/happiness-report/2017/HR17-Ch1.pdf'\n",
       "4. 'https://s3.amazonaws.com/happiness-report/2017/HR17-Ch2.pdf'\n",
       "5. 'https://s3.amazonaws.com/happiness-report/2017/online-data-chapter-2-whr-2017.xlsx'\n",
       "6. 'https://s3.amazonaws.com/happiness-report/2017/StatisticalAppendixWHR2017.pdf'\n",
       "7. 'https://s3.amazonaws.com/happiness-report/2017/NSO-stocktake-summary.pptx'\n",
       "8. 'https://s3.amazonaws.com/happiness-report/2017/final-data-for-figures-in-chapter-2-whr-2017.xlsx'\n",
       "9. 'https://s3.amazonaws.com/happiness-report/2017/HR17-Ch3.pdf'\n",
       "10. 'https://s3.amazonaws.com/happiness-report/2017/HR17-Ch3_Appendix.pdf'\n",
       "11. 'https://s3.amazonaws.com/happiness-report/2017/HR17-Ch4_w-oAppendix.pdf'\n",
       "12. 'https://s3.amazonaws.com/happiness-report/2017/HR17-Ch4_Appendix.pdf'\n",
       "13. 'https://s3.amazonaws.com/happiness-report/2017/HR17-Ch5_w-oAppendix.pdf'\n",
       "14. 'https://s3.amazonaws.com/happiness-report/2017/HR17-Ch5_Appendix.pdf'\n",
       "15. 'https://s3.amazonaws.com/happiness-report/2017/HR17-Ch6_wAppendix.pdf'\n",
       "16. 'https://s3.amazonaws.com/happiness-report/2017/HR17-Ch6_Appendix_updated_May2017.pdf'\n",
       "17. 'https://s3.amazonaws.com/happiness-report/2017/HR17-Ch7.pdf'\n",
       "\n",
       "\n"
      ],
      "text/plain": [
       " [1] \"https://s3.amazonaws.com/happiness-report/2017/HR17.pdf\"                                         \n",
       " [2] \"https://s3.amazonaws.com/happiness-report/2017/HR17-ESv2_updated.pdf\"                            \n",
       " [3] \"https://s3.amazonaws.com/happiness-report/2017/HR17-Ch1.pdf\"                                     \n",
       " [4] \"https://s3.amazonaws.com/happiness-report/2017/HR17-Ch2.pdf\"                                     \n",
       " [5] \"https://s3.amazonaws.com/happiness-report/2017/online-data-chapter-2-whr-2017.xlsx\"              \n",
       " [6] \"https://s3.amazonaws.com/happiness-report/2017/StatisticalAppendixWHR2017.pdf\"                   \n",
       " [7] \"https://s3.amazonaws.com/happiness-report/2017/NSO-stocktake-summary.pptx\"                       \n",
       " [8] \"https://s3.amazonaws.com/happiness-report/2017/final-data-for-figures-in-chapter-2-whr-2017.xlsx\"\n",
       " [9] \"https://s3.amazonaws.com/happiness-report/2017/HR17-Ch3.pdf\"                                     \n",
       "[10] \"https://s3.amazonaws.com/happiness-report/2017/HR17-Ch3_Appendix.pdf\"                            \n",
       "[11] \"https://s3.amazonaws.com/happiness-report/2017/HR17-Ch4_w-oAppendix.pdf\"                         \n",
       "[12] \"https://s3.amazonaws.com/happiness-report/2017/HR17-Ch4_Appendix.pdf\"                            \n",
       "[13] \"https://s3.amazonaws.com/happiness-report/2017/HR17-Ch5_w-oAppendix.pdf\"                         \n",
       "[14] \"https://s3.amazonaws.com/happiness-report/2017/HR17-Ch5_Appendix.pdf\"                            \n",
       "[15] \"https://s3.amazonaws.com/happiness-report/2017/HR17-Ch6_wAppendix.pdf\"                           \n",
       "[16] \"https://s3.amazonaws.com/happiness-report/2017/HR17-Ch6_Appendix_updated_May2017.pdf\"            \n",
       "[17] \"https://s3.amazonaws.com/happiness-report/2017/HR17-Ch7.pdf\"                                     "
      ]
     },
     "metadata": {},
     "output_type": "display_data"
    }
   ],
   "source": [
    "#2017 World Happiness data sets link\n",
    "happiness17_url = glue(\"{base_url}2017/\")\n",
    "#2017 World Happiness data sets link\n",
    "happiness17_url_file_link = read_html(happiness17_url) %>% html_nodes(\".file--link\")  %>% html_attr(\"href\")\n",
    "happiness17_url_file_link"
   ]
  },
  {
   "cell_type": "code",
   "execution_count": 10,
   "metadata": {},
   "outputs": [
    {
     "data": {
      "text/html": [
       "'https://s3.amazonaws.com/happiness-report/2017/online-data-chapter-2-whr-2017.xlsx'"
      ],
      "text/latex": [
       "'https://s3.amazonaws.com/happiness-report/2017/online-data-chapter-2-whr-2017.xlsx'"
      ],
      "text/markdown": [
       "'https://s3.amazonaws.com/happiness-report/2017/online-data-chapter-2-whr-2017.xlsx'"
      ],
      "text/plain": [
       "[1] \"https://s3.amazonaws.com/happiness-report/2017/online-data-chapter-2-whr-2017.xlsx\""
      ]
     },
     "metadata": {},
     "output_type": "display_data"
    }
   ],
   "source": [
    "#2017 happiness data link\n",
    "happiness17_data_link<-happiness17_url_file_link[5]\n",
    "happiness17_data_link"
   ]
  },
  {
   "cell_type": "code",
   "execution_count": 11,
   "metadata": {},
   "outputs": [
    {
     "data": {
      "text/html": [
       "<ol class=list-inline>\n",
       "\t<li>'https://s3.amazonaws.com/happiness-report/2018/WHR_web.pdf'</li>\n",
       "\t<li>'https://s3.amazonaws.com/happiness-report/2018/ES-WHR.pdf'</li>\n",
       "\t<li>'https://s3.amazonaws.com/happiness-report/2018/CH1-WHR-web.pdf'</li>\n",
       "\t<li>'https://s3.amazonaws.com/happiness-report/2018/CH2-WHR-lr.pdf'</li>\n",
       "\t<li>'https://s3.amazonaws.com/happiness-report/2018/CH3-WHR-lr.pdf'</li>\n",
       "\t<li>'https://s3.amazonaws.com/happiness-report/2018/CH4-WHR-lr.pdf'</li>\n",
       "\t<li>'https://s3.amazonaws.com/happiness-report/2018/CH5-WHR-lr.pdf'</li>\n",
       "\t<li>'https://s3.amazonaws.com/happiness-report/2018/CH6-WHR-lr.pdf'</li>\n",
       "\t<li>'https://s3.amazonaws.com/happiness-report/2018/CH7-WHR-lr.pdf'</li>\n",
       "\t<li>'https://s3.amazonaws.com/happiness-report/2018/CHANNEX-WHR-web.pdf'</li>\n",
       "\t<li>'https://s3.amazonaws.com/happiness-report/2018/WHR2018Chapter2OnlineData.xls'</li>\n",
       "\t<li>'https://s3.amazonaws.com/happiness-report/2018/Appendix1ofChapter2.pdf'</li>\n",
       "\t<li>'https://s3.amazonaws.com/happiness-report/2018/Appendix2ofChapter2ImmigrantDomesticBorn.pdf'</li>\n",
       "\t<li>'https://s3.amazonaws.com/happiness-report/2018/Ch3_Online_Appendix.pdf'</li>\n",
       "</ol>\n"
      ],
      "text/latex": [
       "\\begin{enumerate*}\n",
       "\\item 'https://s3.amazonaws.com/happiness-report/2018/WHR\\_web.pdf'\n",
       "\\item 'https://s3.amazonaws.com/happiness-report/2018/ES-WHR.pdf'\n",
       "\\item 'https://s3.amazonaws.com/happiness-report/2018/CH1-WHR-web.pdf'\n",
       "\\item 'https://s3.amazonaws.com/happiness-report/2018/CH2-WHR-lr.pdf'\n",
       "\\item 'https://s3.amazonaws.com/happiness-report/2018/CH3-WHR-lr.pdf'\n",
       "\\item 'https://s3.amazonaws.com/happiness-report/2018/CH4-WHR-lr.pdf'\n",
       "\\item 'https://s3.amazonaws.com/happiness-report/2018/CH5-WHR-lr.pdf'\n",
       "\\item 'https://s3.amazonaws.com/happiness-report/2018/CH6-WHR-lr.pdf'\n",
       "\\item 'https://s3.amazonaws.com/happiness-report/2018/CH7-WHR-lr.pdf'\n",
       "\\item 'https://s3.amazonaws.com/happiness-report/2018/CHANNEX-WHR-web.pdf'\n",
       "\\item 'https://s3.amazonaws.com/happiness-report/2018/WHR2018Chapter2OnlineData.xls'\n",
       "\\item 'https://s3.amazonaws.com/happiness-report/2018/Appendix1ofChapter2.pdf'\n",
       "\\item 'https://s3.amazonaws.com/happiness-report/2018/Appendix2ofChapter2ImmigrantDomesticBorn.pdf'\n",
       "\\item 'https://s3.amazonaws.com/happiness-report/2018/Ch3\\_Online\\_Appendix.pdf'\n",
       "\\end{enumerate*}\n"
      ],
      "text/markdown": [
       "1. 'https://s3.amazonaws.com/happiness-report/2018/WHR_web.pdf'\n",
       "2. 'https://s3.amazonaws.com/happiness-report/2018/ES-WHR.pdf'\n",
       "3. 'https://s3.amazonaws.com/happiness-report/2018/CH1-WHR-web.pdf'\n",
       "4. 'https://s3.amazonaws.com/happiness-report/2018/CH2-WHR-lr.pdf'\n",
       "5. 'https://s3.amazonaws.com/happiness-report/2018/CH3-WHR-lr.pdf'\n",
       "6. 'https://s3.amazonaws.com/happiness-report/2018/CH4-WHR-lr.pdf'\n",
       "7. 'https://s3.amazonaws.com/happiness-report/2018/CH5-WHR-lr.pdf'\n",
       "8. 'https://s3.amazonaws.com/happiness-report/2018/CH6-WHR-lr.pdf'\n",
       "9. 'https://s3.amazonaws.com/happiness-report/2018/CH7-WHR-lr.pdf'\n",
       "10. 'https://s3.amazonaws.com/happiness-report/2018/CHANNEX-WHR-web.pdf'\n",
       "11. 'https://s3.amazonaws.com/happiness-report/2018/WHR2018Chapter2OnlineData.xls'\n",
       "12. 'https://s3.amazonaws.com/happiness-report/2018/Appendix1ofChapter2.pdf'\n",
       "13. 'https://s3.amazonaws.com/happiness-report/2018/Appendix2ofChapter2ImmigrantDomesticBorn.pdf'\n",
       "14. 'https://s3.amazonaws.com/happiness-report/2018/Ch3_Online_Appendix.pdf'\n",
       "\n",
       "\n"
      ],
      "text/plain": [
       " [1] \"https://s3.amazonaws.com/happiness-report/2018/WHR_web.pdf\"                                 \n",
       " [2] \"https://s3.amazonaws.com/happiness-report/2018/ES-WHR.pdf\"                                  \n",
       " [3] \"https://s3.amazonaws.com/happiness-report/2018/CH1-WHR-web.pdf\"                             \n",
       " [4] \"https://s3.amazonaws.com/happiness-report/2018/CH2-WHR-lr.pdf\"                              \n",
       " [5] \"https://s3.amazonaws.com/happiness-report/2018/CH3-WHR-lr.pdf\"                              \n",
       " [6] \"https://s3.amazonaws.com/happiness-report/2018/CH4-WHR-lr.pdf\"                              \n",
       " [7] \"https://s3.amazonaws.com/happiness-report/2018/CH5-WHR-lr.pdf\"                              \n",
       " [8] \"https://s3.amazonaws.com/happiness-report/2018/CH6-WHR-lr.pdf\"                              \n",
       " [9] \"https://s3.amazonaws.com/happiness-report/2018/CH7-WHR-lr.pdf\"                              \n",
       "[10] \"https://s3.amazonaws.com/happiness-report/2018/CHANNEX-WHR-web.pdf\"                         \n",
       "[11] \"https://s3.amazonaws.com/happiness-report/2018/WHR2018Chapter2OnlineData.xls\"               \n",
       "[12] \"https://s3.amazonaws.com/happiness-report/2018/Appendix1ofChapter2.pdf\"                     \n",
       "[13] \"https://s3.amazonaws.com/happiness-report/2018/Appendix2ofChapter2ImmigrantDomesticBorn.pdf\"\n",
       "[14] \"https://s3.amazonaws.com/happiness-report/2018/Ch3_Online_Appendix.pdf\"                     "
      ]
     },
     "metadata": {},
     "output_type": "display_data"
    }
   ],
   "source": [
    "#2018 World Happiness data sets link\n",
    "happiness18_url<-glue(\"{base_url}2018/\")\n",
    "happiness18_url_file_link<-read_html(happiness18_url) %>% html_nodes(\".file--link\")  %>% html_attr(\"href\")\n",
    "happiness18_url_file_link"
   ]
  },
  {
   "cell_type": "code",
   "execution_count": 12,
   "metadata": {},
   "outputs": [
    {
     "data": {
      "text/html": [
       "'https://s3.amazonaws.com/happiness-report/2018/WHR2018Chapter2OnlineData.xls'"
      ],
      "text/latex": [
       "'https://s3.amazonaws.com/happiness-report/2018/WHR2018Chapter2OnlineData.xls'"
      ],
      "text/markdown": [
       "'https://s3.amazonaws.com/happiness-report/2018/WHR2018Chapter2OnlineData.xls'"
      ],
      "text/plain": [
       "[1] \"https://s3.amazonaws.com/happiness-report/2018/WHR2018Chapter2OnlineData.xls\""
      ]
     },
     "metadata": {},
     "output_type": "display_data"
    }
   ],
   "source": [
    "#2018 happiness data link\n",
    "happiness18_data_link<-happiness18_url_file_link[11]\n",
    "happiness18_data_link"
   ]
  },
  {
   "cell_type": "code",
   "execution_count": 13,
   "metadata": {},
   "outputs": [],
   "source": [
    "library(readxl)"
   ]
  },
  {
   "cell_type": "code",
   "execution_count": 14,
   "metadata": {},
   "outputs": [],
   "source": [
    "#The sheet number is decribed by the orginal document\n",
    "read_happiness_data<-function(data_url,sheet_n,file_type){\n",
    "    GET(data_url, write_disk(temp_file <- tempfile(fileext = file_type)))\n",
    "    data<-read_excel(temp_file,sheet_n)\n",
    "    return(data)\n",
    "}"
   ]
  },
  {
   "cell_type": "code",
   "execution_count": 15,
   "metadata": {},
   "outputs": [],
   "source": [
    "data_2015<-read_happiness_data(happiness15_data_link,2,\".xlsx\")\n",
    "data_2016<-read_happiness_data(happiness16_data_link,3,\".xlsx\")\n",
    "data_2017<-read_happiness_data(happiness17_data_link,3,\".xlsx\")\n",
    "data_2018<-read_happiness_data(happiness18_data_link,2,\".xls\")"
   ]
  },
  {
   "cell_type": "code",
   "execution_count": 16,
   "metadata": {},
   "outputs": [],
   "source": [
    "library(skimr)"
   ]
  },
  {
   "cell_type": "code",
   "execution_count": 17,
   "metadata": {},
   "outputs": [
    {
     "name": "stdout",
     "output_type": "stream",
     "text": [
      "Skim summary statistics  \n",
      " n obs: 161    \n",
      " n variables: 29    \n",
      "\n",
      "Variable type: character\n",
      "\n",
      "|                                                                                                                                    variable                                                                                                                                    | missing | complete |  n  | min | max | empty | n_unique |\n",
      "|--------------------------------------------------------------------------------------------------------------------------------------------------------------------------------------------------------------------------------------------------------------------------------|---------|----------|-----|-----|-----|-------|----------|\n",
      "| Data behind ``Figure 2.2 Ranking of Happiness 2012-2014\"  is a cross section of 158 countries ranked by their average ladder scores,  expanded to include trust measures from various sources, and  measures of governance quality based on World Bank's governance indicators |    1    |   160    | 161 |  8  | 255 |   0   |   160    |\n",
      "|                                                                                                                                      X__1                                                                                                                                      |    2    |   159    | 161 |  4  | 24  |   0   |   159    |\n",
      "|                                                                                                                                     X__10                                                                                                                                      |    2    |   159    | 161 | 17  | 25  |   0   |   158    |\n",
      "|                                                                                                                                     X__11                                                                                                                                      |    2    |   159    | 161 | 18  | 24  |   0   |    2     |\n",
      "|                                                                                                                                     X__12                                                                                                                                      |    2    |   159    | 161 | 11  | 19  |   0   |   159    |\n",
      "|                                                                                                                                     X__13                                                                                                                                      |    2    |   159    | 161 |  1  | 32  |   0   |   159    |\n",
      "|                                                                                                                                     X__14                                                                                                                                      |    2    |   159    | 161 |  1  | 28  |   0   |   159    |\n",
      "|                                                                                                                                     X__15                                                                                                                                      |    2    |   159    | 161 |  1  | 37  |   0   |   159    |\n",
      "|                                                                                                                                     X__16                                                                                                                                      |    2    |   159    | 161 |  1  | 42  |   0   |   159    |\n",
      "|                                                                                                                                     X__17                                                                                                                                      |    2    |   159    | 161 |  1  | 24  |   0   |   159    |\n",
      "|                                                                                                                                     X__18                                                                                                                                      |    2    |   159    | 161 |  1  | 39  |   0   |   158    |\n",
      "|                                                                                                                                     X__19                                                                                                                                      |   22    |   139    | 161 | 17  | 28  |   0   |   139    |\n",
      "|                                                                                                                                      X__2                                                                                                                                      |    2    |   159    | 161 |  9  | 34  |   0   |    11    |\n",
      "|                                                                                                                                     X__20                                                                                                                                      |    4    |   157    | 161 | 17  | 23  |   0   |   157    |\n",
      "|                                                                                                                                     X__21                                                                                                                                      |    4    |   157    | 161 | 17  | 22  |   0   |   157    |\n",
      "|                                                                                                                                     X__22                                                                                                                                      |   31    |   130    | 161 | 18  | 50  |   0   |   130    |\n",
      "|                                                                                                                                     X__23                                                                                                                                      |   150   |    11    | 161 | 17  | 47  |   0   |    11    |\n",
      "|                                                                                                                                     X__24                                                                                                                                      |   142   |    19    | 161 | 18  | 47  |   0   |    19    |\n",
      "|                                                                                                                                     X__25                                                                                                                                      |   108   |    53    | 161 | 17  | 47  |   0   |    53    |\n",
      "|                                                                                                                                     X__26                                                                                                                                      |   120   |    41    | 161 |  9  | 47  |   0   |    41    |\n",
      "|                                                                                                                                     X__27                                                                                                                                      |   105   |    56    | 161 | 12  | 47  |   0   |    56    |\n",
      "|                                                                                                                                     X__28                                                                                                                                      |   101   |    60    | 161 | 17  | 47  |   0   |    60    |\n",
      "|                                                                                                                                      X__3                                                                                                                                      |    2    |   159    | 161 |  4  | 18  |   0   |   158    |\n",
      "|                                                                                                                                      X__4                                                                                                                                      |    2    |   159    | 161 | 19  | 30  |   0   |   159    |\n",
      "|                                                                                                                                      X__5                                                                                                                                      |    2    |   159    | 161 | 14  | 21  |   0   |   159    |\n",
      "|                                                                                                                                      X__6                                                                                                                                      |    2    |   159    | 161 | 14  | 19  |   0   |   159    |\n",
      "|                                                                                                                                      X__7                                                                                                                                      |    2    |   159    | 161 | 11  | 23  |   0   |   159    |\n",
      "|                                                                                                                                      X__8                                                                                                                                      |    2    |   159    | 161 | 18  | 28  |   0   |   159    |\n",
      "|                                                                                                                                      X__9                                                                                                                                      |    2    |   159    | 161 | 10  | 22  |   0   |   159    |\n"
     ]
    }
   ],
   "source": [
    "data_2015 %>% skim %>% kable()"
   ]
  },
  {
   "cell_type": "code",
   "execution_count": 18,
   "metadata": {},
   "outputs": [
    {
     "name": "stdout",
     "output_type": "stream",
     "text": [
      "Skim summary statistics  \n",
      " n obs: 157    \n",
      " n variables: 14    \n",
      "\n",
      "Variable type: character\n",
      "\n",
      "| variable | missing | complete |  n  | min | max | empty | n_unique |\n",
      "|----------|---------|----------|-----|-----|-----|-------|----------|\n",
      "| Country  |    0    |   157    | 157 |  4  | 23  |   0   |   157    |\n",
      "\n",
      "Variable type: logical\n",
      "\n",
      "|                  variable                  | missing | complete |  n  | mean | count |\n",
      "|--------------------------------------------|---------|----------|-----|------|-------|\n",
      "| Figure 2.2: Ranking of Happiness 2013-2015 |   157   |    0     | 157 | NaN  |  157  |\n",
      "|                    X__1                    |   157   |    0     | 157 | NaN  |  157  |\n",
      "|                    X__2                    |   157   |    0     | 157 | NaN  |  157  |\n",
      "\n",
      "Variable type: numeric\n",
      "\n",
      "|                  variable                  | missing | complete |  n  | mean |  sd  |  p0  |  p25  | p50  | p75  | p100 |   hist   |\n",
      "|--------------------------------------------|---------|----------|-----|------|------|------|-------|------|------|------|----------|\n",
      "|         Dystopia (2.33) + residual         |    0    |   157    | 157 | 2.33 | 0.54 | 0.82 | 2.03  | 2.29 | 2.66 | 3.84 | ▁▁▂▇▆▃▂▁ |\n",
      "| Explained by: Freedom to make life choices |    0    |   157    | 157 | 0.37 | 0.15 |  0   | 0.26  | 0.4  | 0.48 | 0.61 | ▁▂▃▅▆▇▆▆ |\n",
      "|        Explained by: GDP per capita        |    0    |   157    | 157 | 0.95 | 0.41 |  0   | 0.67  | 1.03 | 1.28 | 1.82 | ▂▅▃▆▇▇▅▁ |\n",
      "|          Explained by: Generosity          |    0    |   157    | 157 | 0.24 | 0.13 |  0   | 0.15  | 0.22 | 0.31 | 0.82 | ▃▇▇▃▂▁▁▁ |\n",
      "|   Explained by: Healthy life expectancy    |    0    |   157    | 157 | 0.56 | 0.23 |  0   | 0.38  | 0.6  | 0.73 | 0.95 | ▁▃▃▂▆▇▆▃ |\n",
      "|  Explained by: Perceptions of corruption   |    0    |   157    | 157 | 0.14 | 0.11 |  0   | 0.061 | 0.11 | 0.18 | 0.51 | ▆▇▅▁▂▁▁▁ |\n",
      "|        Explained by: Social support        |    0    |   157    | 157 | 0.79 | 0.27 |  0   | 0.64  | 0.84 | 1.02 | 1.18 | ▁▂▁▂▆▇▆▇ |\n",
      "|              Happiness score               |    0    |   157    | 157 | 5.38 | 1.14 | 2.9  |  4.4  | 5.31 | 6.27 | 7.53 | ▁▅▇▇▆▇▆▅ |\n",
      "|                Whisker-high                |    0    |   157    | 157 | 5.48 | 1.14 | 3.08 | 4.47  | 5.42 | 6.43 | 7.67 | ▂▅▇▇▇▆▆▅ |\n",
      "|                Whisker-low                 |    0    |   157    | 157 | 5.28 | 1.15 | 2.73 | 4.33  | 5.24 | 6.15 | 7.46 | ▁▆▇▇▇▇▆▅ |\n"
     ]
    }
   ],
   "source": [
    "data_2016 %>% skim %>% kable()"
   ]
  },
  {
   "cell_type": "code",
   "execution_count": 19,
   "metadata": {},
   "outputs": [
    {
     "name": "stdout",
     "output_type": "stream",
     "text": [
      "Skim summary statistics  \n",
      " n obs: 155    \n",
      " n variables: 11    \n",
      "\n",
      "Variable type: character\n",
      "\n",
      "| variable | missing | complete |  n  | min | max | empty | n_unique |\n",
      "|----------|---------|----------|-----|-----|-----|-------|----------|\n",
      "| Country  |    0    |   155    | 155 |  4  | 24  |   0   |   155    |\n",
      "\n",
      "Variable type: numeric\n",
      "\n",
      "|                  variable                  | missing | complete |  n  | mean |  sd  |  p0  |  p25  | p50  | p75  | p100 |   hist   |\n",
      "|--------------------------------------------|---------|----------|-----|------|------|------|-------|------|------|------|----------|\n",
      "|         Dystopia (1.85) + residual         |    0    |   155    | 155 | 1.85 | 0.5  | 0.38 | 1.59  | 1.83 | 2.14 | 3.12 | ▁▁▂▇▇▅▂▁ |\n",
      "| Explained by: Freedom to make life choices |    0    |   155    | 155 | 0.41 | 0.15 |  0   |  0.3  | 0.44 | 0.52 | 0.66 | ▁▂▂▅▅▇▅▅ |\n",
      "|        Explained by: GDP per capita        |    0    |   155    | 155 | 0.98 | 0.42 |  0   | 0.66  | 1.06 | 1.32 | 1.87 | ▂▃▃▅▇▇▆▁ |\n",
      "|          Explained by: Generosity          |    0    |   155    | 155 | 0.25 | 0.13 |  0   | 0.15  | 0.23 | 0.32 | 0.84 | ▃▇▇▅▂▁▁▁ |\n",
      "|   Explained by: Healthy life expectancy    |    0    |   155    | 155 | 0.55 | 0.24 |  0   | 0.37  | 0.61 | 0.72 | 0.95 | ▂▂▃▂▅▇▅▃ |\n",
      "|  Explained by: Perceptions of corruption   |    0    |   155    | 155 | 0.12 | 0.1  |  0   | 0.057 | 0.09 | 0.15 | 0.46 | ▆▇▃▁▂▁▁▁ |\n",
      "|        Explained by: Social support        |    0    |   155    | 155 | 1.19 | 0.29 |  0   | 1.04  | 1.25 | 1.41 | 1.61 | ▁▁▁▂▃▅▇▆ |\n",
      "|              Happiness score               |    0    |   155    | 155 | 5.35 | 1.13 | 2.69 | 4.51  | 5.28 | 6.1  | 7.54 | ▁▅▆▆▇▆▆▅ |\n",
      "|                Whisker-high                |    0    |   155    | 155 | 5.45 | 1.12 | 2.86 | 4.61  | 5.37 | 6.19 | 7.62 | ▁▅▆▆▇▇▆▃ |\n",
      "|                Whisker-low                 |    0    |   155    | 155 | 5.26 | 1.15 | 2.52 | 4.37  | 5.19 | 6.01 | 7.48 | ▁▃▆▅▇▆▅▃ |\n"
     ]
    }
   ],
   "source": [
    "data_2017 %>% skim %>% kable()"
   ]
  },
  {
   "cell_type": "code",
   "execution_count": 20,
   "metadata": {},
   "outputs": [
    {
     "name": "stdout",
     "output_type": "stream",
     "text": [
      "Skim summary statistics  \n",
      " n obs: 157    \n",
      " n variables: 24    \n",
      "\n",
      "Variable type: character\n",
      "\n",
      "| variable | missing | complete |  n  | min | max | empty | n_unique |\n",
      "|----------|---------|----------|-----|-----|-----|-------|----------|\n",
      "| Country  |    1    |   156    | 157 |  4  | 24  |   0   |   156    |\n",
      "|  X__13   |    4    |   153    | 157 |  4  | 25  |   0   |   153    |\n",
      "\n",
      "Variable type: logical\n",
      "\n",
      "| variable | missing | complete |  n  | mean | count |\n",
      "|----------|---------|----------|-----|------|-------|\n",
      "|   X__1   |   157   |    0     | 157 | NaN  |  157  |\n",
      "|  X__10   |   157   |    0     | 157 | NaN  |  157  |\n",
      "|  X__11   |   157   |    0     | 157 | NaN  |  157  |\n",
      "|  X__12   |   157   |    0     | 157 | NaN  |  157  |\n",
      "|   X__2   |   157   |    0     | 157 | NaN  |  157  |\n",
      "|   X__3   |   157   |    0     | 157 | NaN  |  157  |\n",
      "|   X__4   |   157   |    0     | 157 | NaN  |  157  |\n",
      "|   X__5   |   157   |    0     | 157 | NaN  |  157  |\n",
      "|   X__6   |   157   |    0     | 157 | NaN  |  157  |\n",
      "|   X__7   |   157   |    0     | 157 | NaN  |  157  |\n",
      "|   X__8   |   157   |    0     | 157 | NaN  |  157  |\n",
      "|   X__9   |   157   |    0     | 157 | NaN  |  157  |\n",
      "\n",
      "Variable type: numeric\n",
      "\n",
      "|                  variable                  | missing | complete |  n  | mean |  sd   |  p0  |  p25  |  p50  | p75  | p100 |   hist   |\n",
      "|--------------------------------------------|---------|----------|-----|------|-------|------|-------|-------|------|------|----------|\n",
      "|         Dystopia (1.92) + residual         |    1    |   156    | 157 | 1.92 | 0.51  | 0.29 | 1.65  | 1.91  | 2.27 | 2.96 | ▁▁▁▅▇▆▅▂ |\n",
      "| Explained by: Freedom to make life choices |    1    |   156    | 157 | 0.46 | 0.16  |  0   | 0.36  | 0.49  | 0.58 | 0.72 | ▂▁▂▃▅▇▇▃ |\n",
      "|        Explained by: GDP per capita        |    1    |   156    | 157 | 0.89 | 0.38  |  0   | 0.62  | 0.95  | 1.2  | 1.65 | ▂▃▅▆▇▇▆▂ |\n",
      "|          Explained by: Generosity          |    1    |   156    | 157 | 0.18 | 0.099 |  0   | 0.11  | 0.17  | 0.24 | 0.6  | ▃▇▇▅▂▁▁▁ |\n",
      "|   Explained by: Healthy life expectancy    |    1    |   156    | 157 | 0.6  | 0.25  |  0   | 0.42  | 0.64  | 0.78 | 1.03 | ▂▃▃▃▆▇▆▃ |\n",
      "|  Explained by: Perceptions of corruption   |    1    |   156    | 157 | 0.11 | 0.096 |  0   | 0.051 | 0.082 | 0.14 | 0.46 | ▇▇▃▁▁▁▁▁ |\n",
      "|        Explained by: Social support        |    1    |   156    | 157 | 1.22 |  0.3  |  0   | 1.08  | 1.26  | 1.46 | 1.64 | ▁▁▁▂▃▆▆▇ |\n",
      "|              Happiness score               |    1    |   156    | 157 | 5.38 | 1.12  | 2.9  | 4.45  | 5.38  | 6.17 | 7.63 | ▂▂▇▆▇▇▃▃ |\n",
      "|                Whisker-high                |    1    |   156    | 157 | 5.48 | 1.11  | 3.07 | 4.59  | 5.48  | 6.26 | 7.69 | ▂▃▇▆▇▇▃▃ |\n",
      "|                Whisker-low                 |    1    |   156    | 157 | 5.27 | 1.13  | 2.73 | 4.34  | 5.28  | 6.05 | 7.57 | ▂▃▇▆▇▇▃▃ |\n"
     ]
    }
   ],
   "source": [
    "data_2018 %>% skim %>% kable()"
   ]
  },
  {
   "cell_type": "markdown",
   "metadata": {},
   "source": [
    "# Tidy the data\n",
    "The data I scarped from http://worldhappiness.report/ from 2015 to 2018, was pretty messy. Each dataset has different column names, it is also why I can not wirte functions to clean the data. To modify the column names, I have to do it one by one as showed in the coming content. \n",
    "\n",
    "Also, the Excel Sheets I found contains several sheets, only one sheet is needed. \n"
   ]
  },
  {
   "cell_type": "code",
   "execution_count": 21,
   "metadata": {},
   "outputs": [
    {
     "name": "stdout",
     "output_type": "stream",
     "text": [
      "Skim summary statistics  \n",
      " n obs: 158    \n",
      " n variables: 10    \n",
      "\n",
      "Variable type: character\n",
      "\n",
      "| variable | missing | complete |  n  | min | max | empty | n_unique |\n",
      "|----------|---------|----------|-----|-----|-----|-------|----------|\n",
      "| Country  |    0    |   158    | 158 |  4  | 24  |   0   |   158    |\n",
      "|   Year   |    0    |   158    | 158 |  4  |  4  |   0   |    1     |\n",
      "\n",
      "Variable type: numeric\n",
      "\n",
      "|           variable           | missing | complete |  n  | mean |  sd  |  p0  |  p25  | p50  | p75  | p100 |   hist   |\n",
      "|------------------------------|---------|----------|-----|------|------|------|-------|------|------|------|----------|\n",
      "|      Dystopia_residual       |    0    |   158    | 158 | 2.1  | 0.55 | 0.33 | 1.76  | 2.1  | 2.46 | 3.6  | ▁▁▂▇▇▅▂▁ |\n",
      "| Freedom_to_make_lift_choices |    0    |   158    | 158 | 0.43 | 0.15 |  0   | 0.33  | 0.44 | 0.55 | 0.67 | ▁▂▃▅▇▇▆▇ |\n",
      "|        GDP_per_capita        |    0    |   158    | 158 | 0.85 | 0.4  |  0   | 0.55  | 0.91 | 1.16 | 1.69 | ▃▅▅▆▇▇▆▁ |\n",
      "|          Generosity          |    0    |   158    | 158 | 0.24 | 0.13 |  0   | 0.15  | 0.22 | 0.31 | 0.8  | ▂▇▇▃▂▁▁▁ |\n",
      "|       Happiness_score        |    0    |   158    | 158 | 5.38 | 1.15 | 2.84 | 4.53  | 5.23 | 6.24 | 7.59 | ▁▃▅▇▅▆▅▃ |\n",
      "|   Healthy_life_expectancy    |    0    |   158    | 158 | 0.63 | 0.25 |  0   | 0.44  | 0.7  | 0.81 | 1.03 | ▁▂▃▂▅▇▆▃ |\n",
      "|  Perceptions_of_corruption   |    0    |   158    | 158 | 0.14 | 0.12 |  0   | 0.062 | 0.11 | 0.18 | 0.55 | ▇▇▅▁▂▁▁▁ |\n",
      "|        Social_support        |    0    |   158    | 158 | 0.99 | 0.27 |  0   | 0.86  | 1.03 | 1.21 | 1.4  | ▁▁▂▂▅▇▇▇ |\n"
     ]
    }
   ],
   "source": [
    "#Tidy and Clean 2015 data \n",
    "n_row = nrow(data_2015)\n",
    "data_2015_v1 = data_2015[4:n_row,2:19] #Get wanted rows and columns\n",
    "#Rename columns\n",
    "names(data_2015_v1)[1] = \"Country\"\n",
    "names(data_2015_v1)[3] = \"Happiness_score\"\n",
    "names(data_2015_v1)[12] = \"Dystopia_residual\"\n",
    "names(data_2015_v1)[13] = \"GDP_per_capita\"\n",
    "names(data_2015_v1)[14] = \"Social_support\"\n",
    "names(data_2015_v1)[15] = \"Healthy_life_expectancy\"\n",
    "names(data_2015_v1)[16] = \"Freedom_to_make_lift_choices\"\n",
    "names(data_2015_v1)[17] = \"Generosity\"\n",
    "names(data_2015_v1)[18] = \"Perceptions_of_corruption\"\n",
    "\n",
    "#Change attributes of columns\n",
    "data_2015_v1$Happiness_score<-as.numeric(data_2015_v1$Happiness_score)\n",
    "data_2015_v1$Dystopia_residual<-as.numeric(data_2015_v1$Dystopia_residual)\n",
    "data_2015_v1$GDP_per_capita<-as.numeric(data_2015_v1$GDP_per_capita)\n",
    "data_2015_v1$Social_support<-as.numeric(data_2015_v1$Social_support)\n",
    "data_2015_v1$Healthy_life_expectancy<-as.numeric(data_2015_v1$Healthy_life_expectancy)\n",
    "data_2015_v1$Freedom_to_make_lift_choices<-as.numeric(data_2015_v1$Freedom_to_make_lift_choices)\n",
    "data_2015_v1$Generosity<-as.numeric(data_2015_v1$Generosity)\n",
    "data_2015_v1$Perceptions_of_corruption<-as.numeric(data_2015_v1$Perceptions_of_corruption)\n",
    "\n",
    "\n",
    "#Select wanted columns\n",
    "data_2015_v2 = data_2015_v1 %>% select(Country,Happiness_score,Dystopia_residual,GDP_per_capita,Social_support,Healthy_life_expectancy,Freedom_to_make_lift_choices,Generosity,Generosity,Perceptions_of_corruption)\n",
    "#Add column Year,value 2015\n",
    "data_2015_v3 = data_2015_v2 %>% mutate(Year = \"2015\")\n",
    "#delete NA rows\n",
    "data_2015_F = na.omit(data_2015_v3)\n",
    "data_2015_F %>% skim %>% kable()"
   ]
  },
  {
   "cell_type": "code",
   "execution_count": 22,
   "metadata": {},
   "outputs": [
    {
     "name": "stdout",
     "output_type": "stream",
     "text": [
      "Skim summary statistics  \n",
      " n obs: 157    \n",
      " n variables: 10    \n",
      "\n",
      "Variable type: character\n",
      "\n",
      "| variable | missing | complete |  n  | min | max | empty | n_unique |\n",
      "|----------|---------|----------|-----|-----|-----|-------|----------|\n",
      "| Country  |    0    |   157    | 157 |  4  | 23  |   0   |   157    |\n",
      "|   Year   |    0    |   157    | 157 |  4  |  4  |   0   |    1     |\n",
      "\n",
      "Variable type: numeric\n",
      "\n",
      "|           variable           | missing | complete |  n  | mean |  sd  |  p0  |  p25  | p50  | p75  | p100 |   hist   |\n",
      "|------------------------------|---------|----------|-----|------|------|------|-------|------|------|------|----------|\n",
      "|      Dystopia_residual       |    0    |   157    | 157 | 2.33 | 0.54 | 0.82 | 2.03  | 2.29 | 2.66 | 3.84 | ▁▁▂▇▆▃▂▁ |\n",
      "| Freedom_to_make_lift_choices |    0    |   157    | 157 | 0.37 | 0.15 |  0   | 0.26  | 0.4  | 0.48 | 0.61 | ▁▂▃▅▆▇▆▆ |\n",
      "|        GDP_per_capita        |    0    |   157    | 157 | 0.95 | 0.41 |  0   | 0.67  | 1.03 | 1.28 | 1.82 | ▂▅▃▆▇▇▅▁ |\n",
      "|          Generosity          |    0    |   157    | 157 | 0.24 | 0.13 |  0   | 0.15  | 0.22 | 0.31 | 0.82 | ▃▇▇▃▂▁▁▁ |\n",
      "|       Happiness_score        |    0    |   157    | 157 | 5.38 | 1.14 | 2.9  |  4.4  | 5.31 | 6.27 | 7.53 | ▁▅▇▇▆▇▆▅ |\n",
      "|   Healthy_life_expectancy    |    0    |   157    | 157 | 0.56 | 0.23 |  0   | 0.38  | 0.6  | 0.73 | 0.95 | ▁▃▃▂▆▇▆▃ |\n",
      "|  Perceptions_of_corruption   |    0    |   157    | 157 | 0.14 | 0.11 |  0   | 0.061 | 0.11 | 0.18 | 0.51 | ▆▇▅▁▂▁▁▁ |\n",
      "|        Social_support        |    0    |   157    | 157 | 0.79 | 0.27 |  0   | 0.64  | 0.84 | 1.02 | 1.18 | ▁▂▁▂▆▇▆▇ |\n"
     ]
    }
   ],
   "source": [
    "#Tidy and Clean 2016 data \n",
    "n_row = nrow(data_2016)\n",
    "data_2016_v1 = data_2016[1:n_row,1:11] #Get wanted rows and columns\n",
    "#Rename columns\n",
    "names(data_2016_v1)[1] = \"Country\"\n",
    "names(data_2016_v1)[2] = \"Happiness_score\"\n",
    "names(data_2016_v1)[11] = \"Dystopia_residual\"\n",
    "names(data_2016_v1)[5] = \"GDP_per_capita\"\n",
    "names(data_2016_v1)[6] = \"Social_support\"\n",
    "names(data_2016_v1)[7] = \"Healthy_life_expectancy\"\n",
    "names(data_2016_v1)[8] = \"Freedom_to_make_lift_choices\"\n",
    "names(data_2016_v1)[9] = \"Generosity\"\n",
    "names(data_2016_v1)[10] = \"Perceptions_of_corruption\"\n",
    "\n",
    "#Change attributes of columns\n",
    "data_2016_v1$Happiness_score<-as.numeric(data_2016_v1$Happiness_score)\n",
    "data_2016_v1$Dystopia_residual<-as.numeric(data_2016_v1$Dystopia_residual)\n",
    "data_2016_v1$GDP_per_capita<-as.numeric(data_2016_v1$GDP_per_capita)\n",
    "data_2016_v1$Social_support<-as.numeric(data_2016_v1$Social_support)\n",
    "data_2016_v1$Healthy_life_expectancy<-as.numeric(data_2016_v1$Healthy_life_expectancy)\n",
    "data_2016_v1$Freedom_to_make_lift_choices<-as.numeric(data_2016_v1$Freedom_to_make_lift_choices)\n",
    "data_2016_v1$Generosity<-as.numeric(data_2016_v1$Generosity)\n",
    "data_2016_v1$Perceptions_of_corruption<-as.numeric(data_2016_v1$Perceptions_of_corruption)\n",
    "\n",
    "\n",
    "#Select wanted columns\n",
    "data_2016_v2<-data_2016_v1 %>% select(Country,Happiness_score,Dystopia_residual,GDP_per_capita,Social_support,Healthy_life_expectancy,Freedom_to_make_lift_choices,Generosity,Generosity,Perceptions_of_corruption)\n",
    "#Add column Year,value 2016\n",
    "data_2016_v3 = data_2016_v2 %>% mutate(Year = \"2016\")\n",
    "#delete NA rows\n",
    "data_2016_F = na.omit(data_2016_v3)\n",
    "data_2016_F %>% skim %>% kable()"
   ]
  },
  {
   "cell_type": "code",
   "execution_count": 23,
   "metadata": {},
   "outputs": [
    {
     "name": "stdout",
     "output_type": "stream",
     "text": [
      "Skim summary statistics  \n",
      " n obs: 155    \n",
      " n variables: 10    \n",
      "\n",
      "Variable type: character\n",
      "\n",
      "| variable | missing | complete |  n  | min | max | empty | n_unique |\n",
      "|----------|---------|----------|-----|-----|-----|-------|----------|\n",
      "| Country  |    0    |   155    | 155 |  4  | 24  |   0   |   155    |\n",
      "|   Year   |    0    |   155    | 155 |  4  |  4  |   0   |    1     |\n",
      "\n",
      "Variable type: numeric\n",
      "\n",
      "|           variable           | missing | complete |  n  | mean |  sd  |  p0  |  p25  | p50  | p75  | p100 |   hist   |\n",
      "|------------------------------|---------|----------|-----|------|------|------|-------|------|------|------|----------|\n",
      "|      Dystopia_residual       |    0    |   155    | 155 | 1.85 | 0.5  | 0.38 | 1.59  | 1.83 | 2.14 | 3.12 | ▁▁▂▇▇▅▂▁ |\n",
      "| Freedom_to_make_lift_choices |    0    |   155    | 155 | 0.41 | 0.15 |  0   |  0.3  | 0.44 | 0.52 | 0.66 | ▁▂▂▅▅▇▅▅ |\n",
      "|        GDP_per_capita        |    0    |   155    | 155 | 0.98 | 0.42 |  0   | 0.66  | 1.06 | 1.32 | 1.87 | ▂▃▃▅▇▇▆▁ |\n",
      "|          Generosity          |    0    |   155    | 155 | 0.25 | 0.13 |  0   | 0.15  | 0.23 | 0.32 | 0.84 | ▃▇▇▅▂▁▁▁ |\n",
      "|       Happiness_score        |    0    |   155    | 155 | 5.35 | 1.13 | 2.69 | 4.51  | 5.28 | 6.1  | 7.54 | ▁▅▆▆▇▆▆▅ |\n",
      "|   Healthy_life_expectancy    |    0    |   155    | 155 | 0.55 | 0.24 |  0   | 0.37  | 0.61 | 0.72 | 0.95 | ▂▂▃▂▅▇▅▃ |\n",
      "|  Perceptions_of_corruption   |    0    |   155    | 155 | 0.12 | 0.1  |  0   | 0.057 | 0.09 | 0.15 | 0.46 | ▆▇▃▁▂▁▁▁ |\n",
      "|        Social_support        |    0    |   155    | 155 | 1.19 | 0.29 |  0   | 1.04  | 1.25 | 1.41 | 1.61 | ▁▁▁▂▃▅▇▆ |\n"
     ]
    }
   ],
   "source": [
    "#Tidy and Clean 2017 data \n",
    "n_row = nrow(data_2017)\n",
    "data_2017_v1 = data_2017[1:n_row,1:11] #Get wanted rows and columns\n",
    "#Rename columns\n",
    "names(data_2017_v1)[1] = \"Country\"\n",
    "names(data_2017_v1)[2] = \"Happiness_score\"\n",
    "names(data_2017_v1)[11] = \"Dystopia_residual\"\n",
    "names(data_2017_v1)[5] = \"GDP_per_capita\"\n",
    "names(data_2017_v1)[6] = \"Social_support\"\n",
    "names(data_2017_v1)[7] = \"Healthy_life_expectancy\"\n",
    "names(data_2017_v1)[8] = \"Freedom_to_make_lift_choices\"\n",
    "names(data_2017_v1)[9] = \"Generosity\"\n",
    "names(data_2017_v1)[10] = \"Perceptions_of_corruption\"\n",
    "\n",
    "#Change attributes of columns\n",
    "data_2017_v1$Happiness_score<-as.numeric(data_2017_v1$Happiness_score)\n",
    "data_2017_v1$Dystopia_residual<-as.numeric(data_2017_v1$Dystopia_residual)\n",
    "data_2017_v1$GDP_per_capita<-as.numeric(data_2017_v1$GDP_per_capita)\n",
    "data_2017_v1$Social_support<-as.numeric(data_2017_v1$Social_support)\n",
    "data_2017_v1$Healthy_life_expectancy<-as.numeric(data_2017_v1$Healthy_life_expectancy)\n",
    "data_2017_v1$Freedom_to_make_lift_choices<-as.numeric(data_2017_v1$Freedom_to_make_lift_choices)\n",
    "data_2017_v1$Generosity<-as.numeric(data_2017_v1$Generosity)\n",
    "data_2017_v1$Perceptions_of_corruption<-as.numeric(data_2017_v1$Perceptions_of_corruption)\n",
    "\n",
    "\n",
    "#Select wanted columns\n",
    "data_2017_v2 = data_2017_v1 %>% select(Country,Happiness_score,Dystopia_residual,GDP_per_capita,Social_support,Healthy_life_expectancy,Freedom_to_make_lift_choices,Generosity,Generosity,Perceptions_of_corruption)\n",
    "#Add column Year,value 2017\n",
    "data_2017_v3 = data_2017_v2 %>% mutate(Year = \"2017\")\n",
    "#delete NA rows\n",
    "data_2017_F = na.omit(data_2017_v3)\n",
    "data_2017_F %>% skim %>% kable()"
   ]
  },
  {
   "cell_type": "code",
   "execution_count": 24,
   "metadata": {},
   "outputs": [
    {
     "name": "stdout",
     "output_type": "stream",
     "text": [
      "Skim summary statistics  \n",
      " n obs: 156    \n",
      " n variables: 10    \n",
      "\n",
      "Variable type: character\n",
      "\n",
      "| variable | missing | complete |  n  | min | max | empty | n_unique |\n",
      "|----------|---------|----------|-----|-----|-----|-------|----------|\n",
      "| Country  |    0    |   156    | 156 |  4  | 24  |   0   |   156    |\n",
      "|   Year   |    0    |   156    | 156 |  4  |  4  |   0   |    1     |\n",
      "\n",
      "Variable type: numeric\n",
      "\n",
      "|           variable           | missing | complete |  n  | mean |  sd   |  p0  |  p25  |  p50  | p75  | p100 |   hist   |\n",
      "|------------------------------|---------|----------|-----|------|-------|------|-------|-------|------|------|----------|\n",
      "|      Dystopia_residual       |    0    |   156    | 156 | 1.92 | 0.51  | 0.29 | 1.65  | 1.91  | 2.27 | 2.96 | ▁▁▁▅▇▆▅▂ |\n",
      "| Freedom_to_make_lift_choices |    0    |   156    | 156 | 0.46 | 0.16  |  0   | 0.36  | 0.49  | 0.58 | 0.72 | ▂▁▂▃▅▇▇▃ |\n",
      "|        GDP_per_capita        |    0    |   156    | 156 | 0.89 | 0.38  |  0   | 0.62  | 0.95  | 1.2  | 1.65 | ▂▃▅▆▇▇▆▂ |\n",
      "|          Generosity          |    0    |   156    | 156 | 0.18 | 0.099 |  0   | 0.11  | 0.17  | 0.24 | 0.6  | ▃▇▇▅▂▁▁▁ |\n",
      "|       Happiness_score        |    0    |   156    | 156 | 5.38 | 1.12  | 2.9  | 4.45  | 5.38  | 6.17 | 7.63 | ▂▂▇▆▇▇▃▃ |\n",
      "|   Healthy_life_expectancy    |    0    |   156    | 156 | 0.6  | 0.25  |  0   | 0.42  | 0.64  | 0.78 | 1.03 | ▂▃▃▃▆▇▆▃ |\n",
      "|  Perceptions_of_corruption   |    0    |   156    | 156 | 0.11 | 0.096 |  0   | 0.051 | 0.082 | 0.14 | 0.46 | ▇▇▃▁▁▁▁▁ |\n",
      "|        Social_support        |    0    |   156    | 156 | 1.22 |  0.3  |  0   | 1.08  | 1.26  | 1.46 | 1.64 | ▁▁▁▂▃▆▆▇ |\n"
     ]
    }
   ],
   "source": [
    "#Tidy and Clean 2018 data \n",
    "n_row = nrow(data_2018)\n",
    "data_2018_v1 = data_2018[1:n_row,1:11] #Get wanted rows and columns\n",
    "#Rename columns\n",
    "names(data_2018_v1)[1] = \"Country\"\n",
    "names(data_2018_v1)[2] = \"Happiness_score\"\n",
    "names(data_2018_v1)[5] = \"Dystopia_residual\"\n",
    "names(data_2018_v1)[6] = \"GDP_per_capita\"\n",
    "names(data_2018_v1)[7] = \"Social_support\"\n",
    "names(data_2018_v1)[8] = \"Healthy_life_expectancy\"\n",
    "names(data_2018_v1)[9] = \"Freedom_to_make_lift_choices\"\n",
    "names(data_2018_v1)[10] = \"Generosity\"\n",
    "names(data_2018_v1)[11] = \"Perceptions_of_corruption\"\n",
    "\n",
    "#Change attributes of columns\n",
    "data_2018_v1$Happiness_score<-as.numeric(data_2018_v1$Happiness_score)\n",
    "data_2018_v1$Dystopia_residual<-as.numeric(data_2018_v1$Dystopia_residual)\n",
    "data_2018_v1$GDP_per_capita<-as.numeric(data_2018_v1$GDP_per_capita)\n",
    "data_2018_v1$Social_support<-as.numeric(data_2018_v1$Social_support)\n",
    "data_2018_v1$Healthy_life_expectancy<-as.numeric(data_2018_v1$Healthy_life_expectancy)\n",
    "data_2018_v1$Freedom_to_make_lift_choices<-as.numeric(data_2018_v1$Freedom_to_make_lift_choices)\n",
    "data_2018_v1$Generosity<-as.numeric(data_2018_v1$Generosity)\n",
    "data_2018_v1$Perceptions_of_corruption<-as.numeric(data_2018_v1$Perceptions_of_corruption)\n",
    "\n",
    "\n",
    "#Select wanted columns\n",
    "data_2018_v2 = data_2018_v1 %>% select(Country,Happiness_score,Dystopia_residual,GDP_per_capita,Social_support,Healthy_life_expectancy,Freedom_to_make_lift_choices,Generosity,Generosity,Perceptions_of_corruption)\n",
    "#Add column Year,value 2018\n",
    "data_2018_v3 = data_2018_v2 %>% mutate(Year = \"2018\")\n",
    "#delete NA rows\n",
    "data_2018_F = na.omit(data_2018_v3)\n",
    "data_2018_F %>% skim %>% kable()"
   ]
  },
  {
   "cell_type": "code",
   "execution_count": 25,
   "metadata": {},
   "outputs": [
    {
     "data": {
      "text/html": [
       "<table>\n",
       "<thead><tr><th scope=col>Country</th><th scope=col>Happiness_score</th><th scope=col>Dystopia_residual</th><th scope=col>GDP_per_capita</th><th scope=col>Social_support</th><th scope=col>Healthy_life_expectancy</th><th scope=col>Freedom_to_make_lift_choices</th><th scope=col>Generosity</th><th scope=col>Perceptions_of_corruption</th><th scope=col>Year</th></tr></thead>\n",
       "<tbody>\n",
       "\t<tr><td>Switzerland</td><td>7.587      </td><td>2.517383   </td><td>1.396505   </td><td>1.349505   </td><td>0.9414323  </td><td>0.6655733  </td><td>0.2967753  </td><td>0.4197768  </td><td>2015       </td></tr>\n",
       "\t<tr><td>Iceland    </td><td>7.561      </td><td>2.702013   </td><td>1.302324   </td><td>1.402231   </td><td>0.9478443  </td><td>0.6287721  </td><td>0.4362967  </td><td>0.1414514  </td><td>2015       </td></tr>\n",
       "</tbody>\n",
       "</table>\n"
      ],
      "text/latex": [
       "\\begin{tabular}{r|llllllllll}\n",
       " Country & Happiness\\_score & Dystopia\\_residual & GDP\\_per\\_capita & Social\\_support & Healthy\\_life\\_expectancy & Freedom\\_to\\_make\\_lift\\_choices & Generosity & Perceptions\\_of\\_corruption & Year\\\\\n",
       "\\hline\n",
       "\t Switzerland & 7.587       & 2.517383    & 1.396505    & 1.349505    & 0.9414323   & 0.6655733   & 0.2967753   & 0.4197768   & 2015       \\\\\n",
       "\t Iceland     & 7.561       & 2.702013    & 1.302324    & 1.402231    & 0.9478443   & 0.6287721   & 0.4362967   & 0.1414514   & 2015       \\\\\n",
       "\\end{tabular}\n"
      ],
      "text/markdown": [
       "\n",
       "Country | Happiness_score | Dystopia_residual | GDP_per_capita | Social_support | Healthy_life_expectancy | Freedom_to_make_lift_choices | Generosity | Perceptions_of_corruption | Year | \n",
       "|---|---|\n",
       "| Switzerland | 7.587       | 2.517383    | 1.396505    | 1.349505    | 0.9414323   | 0.6655733   | 0.2967753   | 0.4197768   | 2015        | \n",
       "| Iceland     | 7.561       | 2.702013    | 1.302324    | 1.402231    | 0.9478443   | 0.6287721   | 0.4362967   | 0.1414514   | 2015        | \n",
       "\n",
       "\n"
      ],
      "text/plain": [
       "  Country     Happiness_score Dystopia_residual GDP_per_capita Social_support\n",
       "1 Switzerland 7.587           2.517383          1.396505       1.349505      \n",
       "2 Iceland     7.561           2.702013          1.302324       1.402231      \n",
       "  Healthy_life_expectancy Freedom_to_make_lift_choices Generosity\n",
       "1 0.9414323               0.6655733                    0.2967753 \n",
       "2 0.9478443               0.6287721                    0.4362967 \n",
       "  Perceptions_of_corruption Year\n",
       "1 0.4197768                 2015\n",
       "2 0.1414514                 2015"
      ]
     },
     "metadata": {},
     "output_type": "display_data"
    }
   ],
   "source": [
    "happiness_data = rbind(data_2015_F,data_2016_F,data_2017_F,data_2018_F)\n",
    "happiness_data %>%\n",
    "    head(2)"
   ]
  },
  {
   "cell_type": "markdown",
   "metadata": {},
   "source": [
    "# Plots "
   ]
  },
  {
   "cell_type": "code",
   "execution_count": 26,
   "metadata": {},
   "outputs": [
    {
     "data": {
      "text/html": [
       "<table>\n",
       "<thead><tr><th scope=col>Year</th><th scope=col>mean_happiness</th></tr></thead>\n",
       "<tbody>\n",
       "\t<tr><td>2015    </td><td>5.375734</td></tr>\n",
       "\t<tr><td>2016    </td><td>5.382185</td></tr>\n",
       "\t<tr><td>2017    </td><td>5.354019</td></tr>\n",
       "\t<tr><td>2018    </td><td>5.375881</td></tr>\n",
       "</tbody>\n",
       "</table>\n"
      ],
      "text/latex": [
       "\\begin{tabular}{r|ll}\n",
       " Year & mean\\_happiness\\\\\n",
       "\\hline\n",
       "\t 2015     & 5.375734\\\\\n",
       "\t 2016     & 5.382185\\\\\n",
       "\t 2017     & 5.354019\\\\\n",
       "\t 2018     & 5.375881\\\\\n",
       "\\end{tabular}\n"
      ],
      "text/markdown": [
       "\n",
       "Year | mean_happiness | \n",
       "|---|---|---|---|\n",
       "| 2015     | 5.375734 | \n",
       "| 2016     | 5.382185 | \n",
       "| 2017     | 5.354019 | \n",
       "| 2018     | 5.375881 | \n",
       "\n",
       "\n"
      ],
      "text/plain": [
       "  Year mean_happiness\n",
       "1 2015 5.375734      \n",
       "2 2016 5.382185      \n",
       "3 2017 5.354019      \n",
       "4 2018 5.375881      "
      ]
     },
     "metadata": {},
     "output_type": "display_data"
    }
   ],
   "source": [
    "# Find the mean of happiness scores 2015-2018\n",
    "year_happiness_mean = happiness_data %>%\n",
    "    group_by(Year) %>%\n",
    "    summarise(mean_happiness = mean(Happiness_score))\n",
    "\n",
    "year_happiness_mean"
   ]
  },
  {
   "cell_type": "code",
   "execution_count": 27,
   "metadata": {},
   "outputs": [
    {
     "ename": "ERROR",
     "evalue": "Error in readPNG(\"world_map.png\"): unable to open world_map.png\n",
     "output_type": "error",
     "traceback": [
      "Error in readPNG(\"world_map.png\"): unable to open world_map.png\nTraceback:\n",
      "1. readPNG(\"world_map.png\")"
     ]
    }
   ],
   "source": [
    "#Read world map(PNG)\n",
    "world_map = readPNG(\"world_map.png\")\n",
    "bg_map = rasterGrob(world_map, interpolate = TRUE)"
   ]
  },
  {
   "cell_type": "code",
   "execution_count": null,
   "metadata": {},
   "outputs": [],
   "source": [
    "# A plot shows world happiness trend from 2015-2018\n",
    "year_happiness_mean %>%\n",
    "    ggplot(aes(x = Year, y = mean_happiness, group = 1)) + \n",
    "    annotation_custom(bg_map, xmin=-Inf, xmax=Inf, ymin=-Inf, ymax=Inf) +\n",
    "    geom_point() + theme_linedraw() +\n",
    "    geom_line(color = \"red\") + \n",
    "    geom_text_repel(aes(label = mean_happiness),\n",
    "                    hjust=-0.1, vjust=0.5, size =2.5) +\n",
    "    labs(x = \"Year\", y = \"Mean Happiness\",\n",
    "            title = \"World Happiness Score Trend\", \n",
    "            subtitle = \"Data from 2015-2018\", \n",
    "            caption = \"http://worldhappiness.report/ed/\") + \n",
    "    geom_point(shape = 5,color = \"green\",size = 2)"
   ]
  },
  {
   "cell_type": "code",
   "execution_count": null,
   "metadata": {},
   "outputs": [],
   "source": [
    "#Get average happiness score each country\n",
    "happiness_data_aver_by_country<-happiness_data %>% \n",
    "    select(Country,Happiness_score) %>% \n",
    "    group_by(Country) %>%\n",
    "    summarise(ave_happiness_score = mean(Happiness_score)) %>% \n",
    "    arrange(-ave_happiness_score)"
   ]
  },
  {
   "cell_type": "code",
   "execution_count": null,
   "metadata": {},
   "outputs": [],
   "source": [
    "happiness_data_aver_by_country_graph<-ggplot(happiness_data_aver_by_country,aes(x = Country,y = ave_happiness_score,group = 1,color = Country)) + \n",
    "theme_minimal()+\n",
    "geom_point(shape = 7)+\n",
    "geom_line() + \n",
    "theme(axis.text.x = element_text(angle = 90,color = \"black\",size = 5),\n",
    "      legend.position = \"None\",axis.ticks = ) +\n",
    "geom_text(aes(label=Country), size = 2,color = \"black\") +\n",
    "labs(x = \"Country\", y = \"Average Happiness Score\",\n",
    "     caption = \"http://worldhappiness.report/ed/\",title = \"Country Average Happiness Score Thread\",subtitle = \"Four Year Thread, 2015 - 2018\")\n",
    "happiness_data_aver_by_country_graph"
   ]
  },
  {
   "cell_type": "code",
   "execution_count": null,
   "metadata": {},
   "outputs": [],
   "source": [
    "# Mean of happiness of each country\n",
    "mean_country_happiness = happiness_data %>%\n",
    "    group_by(Country) %>%\n",
    "    summarise(mean_happiness = mean(Happiness_score)) \n",
    "\n",
    "# Ranking of the mean of GDP\n",
    "mean_GDP = happiness_data %>%\n",
    "    group_by(Country) %>%\n",
    "    summarise(mean_gdp = mean(GDP_per_capita))\n",
    "\n",
    "# Meage the two dataframe\n",
    "gdp_and_happiness = merge(mean_country_happiness, mean_GDP, key = \"Country\") \n",
    "gdp_and_happiness = gdp_and_happiness %>%\n",
    "    arrange(mean_gdp)\n",
    "\n",
    "gdp_and_happiness %>%\n",
    "    head(1)"
   ]
  },
  {
   "cell_type": "code",
   "execution_count": null,
   "metadata": {},
   "outputs": [],
   "source": [
    "#Draw the plot with relationship between GDP and happiness\n",
    "gdp_and_happiness %>%\n",
    "    ggplot(aes(x = mean_gdp, y = mean_happiness, group = 1, color = mean_happiness)) + \n",
    "    scale_color_gradientn(colours = rainbow(5)) +\n",
    "    geom_point() + theme_minimal() + theme_linedraw() + \n",
    "    geom_smooth(method ='loess', formula = 'y ~ x') +\n",
    "    labs(x = \"GDP Per Capita\", y = \"Mean Happiness\",\n",
    "         title = \"Relationship between GDP and Happiness\", \n",
    "         subtitle = \"Data from 2015-2018\", \n",
    "         caption = \"http://worldhappiness.report/ed/\")"
   ]
  },
  {
   "cell_type": "code",
   "execution_count": null,
   "metadata": {},
   "outputs": [],
   "source": [
    "# Mean of happiness score of each country\n",
    "mean_country_happiness = happiness_data %>%\n",
    "    group_by(Country) %>%\n",
    "    summarise(mean_happiness = mean(Happiness_score)) \n",
    "\n",
    "# Mean of health score\n",
    "mean_country_health = happiness_data %>%\n",
    "    group_by(Country) %>%\n",
    "    summarise(mean_health = mean(Healthy_life_expectancy))\n",
    "\n",
    "# Meage two dataframes\n",
    "health_and_happiness = merge(mean_country_happiness, mean_country_health, key = \"Country\") \n",
    "\n",
    "health_and_happiness %>%\n",
    "    head(1)"
   ]
  },
  {
   "cell_type": "code",
   "execution_count": null,
   "metadata": {},
   "outputs": [],
   "source": [
    "# Draw the plot with relationship between health and happiness\n",
    "health_and_happiness %>%\n",
    "    ggplot(aes(x = mean_health, y = mean_happiness, group = 1, color=mean_happiness)) + \n",
    "    scale_color_gradient(low=\"red\", high=\"green\") +\n",
    "    geom_point() + \n",
    "    theme_minimal() + \n",
    "    theme_linedraw() + \n",
    "    geom_smooth(method ='loess', formula = 'y ~ x') +\n",
    "    labs(x = \"Mean Health Scroe\", y = \"Mean Happiness\",\n",
    "         title = \"Relationship between Health and Happiness\", \n",
    "         subtitle = \"Data from 2015-2018\", \n",
    "         caption = \"http://worldhappiness.report/ed/\")"
   ]
  },
  {
   "cell_type": "code",
   "execution_count": null,
   "metadata": {},
   "outputs": [],
   "source": [
    "# Mean of happiness score of each country\n",
    "mean_country_happiness = happiness_data %>%\n",
    "    group_by(Country) %>%\n",
    "    summarise(mean_happiness = mean(Happiness_score)) \n",
    "\n",
    "# Mean of health score\n",
    "mean_country_health = happiness_data %>%\n",
    "    group_by(Country) %>%\n",
    "    summarise(mean_freedom = mean(Freedom_to_make_lift_choices))\n",
    "\n",
    "# Meage two dataframes\n",
    "health_and_happiness = merge(mean_country_happiness, mean_country_health, key = \"Country\") \n",
    "\n",
    "health_and_happiness %>%\n",
    "    head(1)"
   ]
  },
  {
   "cell_type": "code",
   "execution_count": null,
   "metadata": {},
   "outputs": [],
   "source": [
    "# Draw the plot with relationship between health and happiness\n",
    "health_and_happiness %>%\n",
    "    ggplot(aes(x = mean_freedom, y = mean_happiness, group = 1, color = mean_happiness)) + \n",
    "    scale_color_gradient(low=\"red\", high=\"green\") +\n",
    "    geom_point() + \n",
    "    theme_minimal() + \n",
    "    theme_linedraw() + \n",
    "    geom_smooth(method ='loess', formula = 'y ~ x') +\n",
    "    labs(x = \"Mean Freedom Score\", y = \"Mean Happiness\",\n",
    "         title = \"Relationship between Freedom and Happiness\", subtitle = \"Data from 2015-2018\", caption = \"http://worldhappiness.report/ed/\")"
   ]
  },
  {
   "cell_type": "code",
   "execution_count": null,
   "metadata": {},
   "outputs": [],
   "source": [
    "happiness_against_dystopia_graph_line<-ggplot(happiness_data,aes(x= Dystopia_residual,y = Happiness_score,group = 1,color = Country)) + \n",
    "theme_linedraw() + \n",
    "geom_line() + \n",
    "theme(legend.position=\"None\") +\n",
    "labs(x = \"Dystopia Residual\", y = \"Happiness Score\",caption = \"http://worldhappiness.report/ed/\",title = \"Happiness Against Dystopia Residual \",subtitle = \"Four Year Thread, 2015 - 2018\")\n",
    "happiness_against_dystopia_graph_line"
   ]
  },
  {
   "cell_type": "code",
   "execution_count": null,
   "metadata": {},
   "outputs": [],
   "source": [
    "happiness_against_dystopia_graph_point<- ggplot(happiness_data, aes(x = Dystopia_residual, y = Happiness_score,color = Country)) + \n",
    "theme_linedraw() + \n",
    "geom_point() + \n",
    "theme(legend.position=\"None\") + \n",
    "labs(x = \"Dystopia Residual\", y = \"Happiness Score\",caption = \"http://worldhappiness.report/ed/\",title = \"Happiness Against Dystopia Residual \",subtitle = \"Four Year Thread, 2015 - 2018\")\n",
    "happiness_against_dystopia_graph_point"
   ]
  },
  {
   "cell_type": "code",
   "execution_count": null,
   "metadata": {},
   "outputs": [],
   "source": [
    "happiness_against_Perceptions_of_corruption<- ggplot(happiness_data, aes(x = Perceptions_of_corruption, y = Happiness_score,color = Country)) + \n",
    "theme_linedraw() + \n",
    "geom_point() + \n",
    "theme(legend.position=\"None\") + \n",
    "labs(x = \"Perceptions of Corruption\", y = \"Happiness Score\",\n",
    "     caption = \"http://worldhappiness.report/ed/\",\n",
    "     title = \"Happiness Against Perceptions of Corruption\",subtitle = \"Four Year Thread, 2015 - 2018\")\n",
    "happiness_against_Perceptions_of_corruption"
   ]
  },
  {
   "cell_type": "code",
   "execution_count": null,
   "metadata": {},
   "outputs": [],
   "source": [
    "# Determine the mean of happiness score\n",
    "mean_country_happiness = happiness_data %>%\n",
    "    group_by(Country) %>%\n",
    "    summarise(mean_happiness = mean(Happiness_score)) \n",
    "\n",
    "# Find the top 3 countries\n",
    "top_3_countries = mean_country_happiness %>%\n",
    "    arrange(desc(mean_happiness)) %>%\n",
    "    top_n(3) %>%\n",
    "    select(Country)\n",
    "\n",
    "# Find the last 4 countries\n",
    "last_3_countries = mean_country_happiness %>%\n",
    "    arrange(desc(mean_happiness)) %>%\n",
    "    top_n(-4) %>%\n",
    "    select(Country)\n",
    "\n",
    "# Combine the two group of countries\n",
    "top_and_last = rbind(top_3_countries, last_3_countries)"
   ]
  },
  {
   "cell_type": "code",
   "execution_count": null,
   "metadata": {},
   "outputs": [],
   "source": [
    "#One year data of Central African Republic is missing\n",
    "top_and_last_final = top_and_last %>%\n",
    "    filter(Country != \"Central African Republic\")"
   ]
  },
  {
   "cell_type": "code",
   "execution_count": null,
   "metadata": {},
   "outputs": [],
   "source": [
    "# Left join two dataframes\n",
    "joined_data = top_and_last_final %>%\n",
    "    left_join(happiness_data)"
   ]
  },
  {
   "cell_type": "code",
   "execution_count": null,
   "metadata": {},
   "outputs": [],
   "source": [
    "# A bar plot show Top 5 Countries happiness trend\n",
    "ggplot(data = joined_data, aes(x=Year, y=Happiness_score, fill=Country)) + \n",
    "    coord_cartesian(ylim = c(0, 8)) + \n",
    "    theme_linedraw() +\n",
    "    scale_fill_brewer(palette=\"Reds\") +\n",
    "    geom_bar(stat=\"identity\", position=position_dodge()) +\n",
    "    labs(x = \"Year\", y = \"Happiness Score\",\n",
    "         title = \"Top and Last Three Countries Comparasion\", subtitle = \"Data from 2015-2018\", caption = \"http://worldhappiness.report/ed/\") +\n",
    "    geom_text_repel(aes(label = Happiness_score),\n",
    "         hjust=-0.1, vjust=0.5, size =2.5)"
   ]
  },
  {
   "cell_type": "code",
   "execution_count": null,
   "metadata": {},
   "outputs": [],
   "source": [
    "# Determine the mean of happiness score\n",
    "mean_country_happiness = happiness_data %>%\n",
    "    group_by(Country) %>%\n",
    "    summarise(mean_happiness = mean(Happiness_score)) \n",
    "\n",
    "# Find the top 9 countries\n",
    "top_9_countries = mean_country_happiness %>%\n",
    "    arrange(desc(mean_happiness)) %>%\n",
    "    top_n(9) %>%\n",
    "    select(Country)"
   ]
  },
  {
   "cell_type": "code",
   "execution_count": null,
   "metadata": {},
   "outputs": [],
   "source": [
    "# Left join two dataframes\n",
    "joined_data_top_9 = top_9_countries %>%\n",
    "    left_join(happiness_data)"
   ]
  },
  {
   "cell_type": "code",
   "execution_count": null,
   "metadata": {},
   "outputs": [],
   "source": [
    "# A bar plot show Top 5 Countries happiness trend\n",
    "ggplot(data = joined_data_top_9, aes(x=Year, y=Happiness_score, fill=Country)) + \n",
    "    coord_cartesian(ylim = c(0, 8)) + \n",
    "    theme_linedraw() +\n",
    "    scale_fill_brewer(palette=\"Blues\") +\n",
    "    geom_bar(stat=\"identity\", position=position_dodge()) +\n",
    "    labs(x = \"Year\", y = \"Happiness Score\",\n",
    "         title = \"Top and Last Three Countries Comparasion\", \n",
    "         subtitle = \"Data from 2015-2018\", caption = \"http://worldhappiness.report/ed/\")"
   ]
  },
  {
   "cell_type": "code",
   "execution_count": null,
   "metadata": {},
   "outputs": [],
   "source": []
  }
 ],
 "metadata": {
  "kernelspec": {
   "display_name": "R",
   "language": "R",
   "name": "ir"
  },
  "language_info": {
   "codemirror_mode": "r",
   "file_extension": ".r",
   "mimetype": "text/x-r-source",
   "name": "R",
   "pygments_lexer": "r",
   "version": "3.5.1"
  }
 },
 "nbformat": 4,
 "nbformat_minor": 2
}
